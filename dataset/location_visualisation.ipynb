{
 "cells": [
  {
   "cell_type": "markdown",
   "metadata": {},
   "source": [
    "# Data Location Visualisation\n",
    "\n",
    "This notebook creates a data visualisation, showing the location of each image taken"
   ]
  },
  {
   "cell_type": "code",
   "execution_count": 31,
   "metadata": {},
   "outputs": [],
   "source": [
    "from PIL import Image\n",
    "from PIL.ExifTags import TAGS, GPSTAGS\n",
    "import folium\n",
    "import os"
   ]
  },
  {
   "cell_type": "code",
   "execution_count": 32,
   "metadata": {},
   "outputs": [],
   "source": [
    "dataset = \"trashy_dataset\""
   ]
  },
  {
   "cell_type": "code",
   "execution_count": 33,
   "metadata": {},
   "outputs": [],
   "source": [
    "def get_exif_data(image_path):\n",
    "    \"\"\"Extract GPS data from an image.\"\"\"\n",
    "    image = Image.open(image_path)\n",
    "    exif_data = {}\n",
    "    info = image._getexif()\n",
    "    if info:\n",
    "        for tag, value in info.items():\n",
    "            decoded_tag = TAGS.get(tag, tag)\n",
    "            if decoded_tag == \"GPSInfo\":\n",
    "                gps_data = {}\n",
    "                for t in value:\n",
    "                    gps_tag = GPSTAGS.get(t, t)\n",
    "                    gps_data[gps_tag] = value[t]\n",
    "                exif_data[\"GPSInfo\"] = gps_data\n",
    "    return exif_data\n",
    "\n",
    "def convert_to_decimal(gps_data):\n",
    "    \"\"\"Convert GPS coordinates from degrees, minutes, and seconds to decimal.\"\"\"\n",
    "    def dms_to_decimal(dms, ref):\n",
    "        # Check for division by zero\n",
    "        try:\n",
    "            degrees = dms[0].numerator / dms[0].denominator\n",
    "            minutes = dms[1].numerator / dms[1].denominator / 60.0\n",
    "            seconds = dms[2].numerator / dms[2].denominator / 3600.0\n",
    "        except ZeroDivisionError:\n",
    "            return None  # Return None if any part is invalid\n",
    "        decimal = degrees + minutes + seconds\n",
    "        return -decimal if ref in ['S', 'W'] else decimal\n",
    "    \n",
    "    try:\n",
    "        lat = dms_to_decimal(gps_data['GPSLatitude'], gps_data['GPSLatitudeRef'])\n",
    "        lon = dms_to_decimal(gps_data['GPSLongitude'], gps_data['GPSLongitudeRef'])\n",
    "        if lat is None or lon is None:\n",
    "            return None\n",
    "        return lat, lon\n",
    "    except KeyError:\n",
    "        return None"
   ]
  },
  {
   "cell_type": "code",
   "execution_count": 34,
   "metadata": {},
   "outputs": [
    {
     "name": "stdout",
     "output_type": "stream",
     "text": [
      "Skipped image due to invalid GPS data: trashy_dataset/MSIDA_11.jpg\n",
      "Skipped image due to invalid GPS data: trashy_dataset/MSIDA_10.jpg\n",
      "No GPS data found for image: trashy_dataset/IMG_1782 2.jpg\n",
      "Skipped image due to invalid GPS data: trashy_dataset/MSIDA_12.jpg\n",
      "Skipped image due to invalid GPS data: trashy_dataset/MSIDA_13.jpg\n",
      "Skipped image due to invalid GPS data: trashy_dataset/MSIDA_17.jpg\n",
      "Skipped image due to invalid GPS data: trashy_dataset/MSIDA_16.jpg\n",
      "Skipped image due to invalid GPS data: trashy_dataset/MSIDA_28.jpg\n",
      "Skipped image due to invalid GPS data: trashy_dataset/MSIDA_14.jpg\n",
      "Skipped image due to invalid GPS data: trashy_dataset/MSIDA_15.jpg\n",
      "Skipped image due to invalid GPS data: trashy_dataset/MSIDA_29.jpg\n",
      "Skipped image due to invalid GPS data: trashy_dataset/MSIDA_9.jpg\n",
      "Skipped image due to invalid GPS data: trashy_dataset/MSIDA_8.jpg\n",
      "Skipped image due to invalid GPS data: trashy_dataset/MSIDA_5.jpg\n",
      "Skipped image due to invalid GPS data: trashy_dataset/MSIDA_4.jpg\n",
      "Skipped image due to invalid GPS data: trashy_dataset/MSIDA_6.jpg\n",
      "Skipped image due to invalid GPS data: trashy_dataset/MSIDA_7.jpg\n",
      "Skipped image due to invalid GPS data: trashy_dataset/MSIDA_3.jpg\n",
      "Skipped image due to invalid GPS data: trashy_dataset/MSIDA_2.jpg\n",
      "Skipped image due to invalid GPS data: trashy_dataset/MSIDA_1.jpg\n",
      "Skipped image due to invalid GPS data: trashy_dataset/MSIDA_24.jpg\n",
      "Skipped image due to invalid GPS data: trashy_dataset/MSIDA_30.jpg\n",
      "Skipped image due to invalid GPS data: trashy_dataset/MSIDA_18.jpg\n",
      "Skipped image due to invalid GPS data: trashy_dataset/MSIDA_19.jpg\n",
      "Skipped image due to invalid GPS data: trashy_dataset/MSIDA_31.jpg\n",
      "Skipped image due to invalid GPS data: trashy_dataset/MSIDA_25.jpg\n",
      "Skipped image due to invalid GPS data: trashy_dataset/MSIDA_33.jpg\n",
      "Skipped image due to invalid GPS data: trashy_dataset/MSIDA_27.jpg\n",
      "No GPS data found for image: trashy_dataset/RabatGozo_1.jpg\n",
      "Skipped image due to invalid GPS data: trashy_dataset/MSIDA_26.jpg\n",
      "Skipped image due to invalid GPS data: trashy_dataset/MSIDA_32.jpg\n",
      "Skipped image due to invalid GPS data: trashy_dataset/MSIDA_22.jpg\n",
      "Skipped image due to invalid GPS data: trashy_dataset/MSIDA_23.jpg\n",
      "Skipped image due to invalid GPS data: trashy_dataset/MSIDA_21.jpg\n",
      "Skipped image due to invalid GPS data: trashy_dataset/MSIDA_34.jpg\n",
      "Skipped image due to invalid GPS data: trashy_dataset/MSIDA_20.jpg\n"
     ]
    }
   ],
   "source": [
    "image_paths = [os.path.join(dataset, file) for file in os.listdir(dataset) if file.lower().endswith(('.jpg', '.jpeg'))]\n",
    "map_center = [35.9375, 14.3754]\n",
    "\n",
    "m = folium.Map(location=map_center, zoom_start=11.4)\n",
    "\n",
    "# Process each image and add markers if GPS data exists\n",
    "for image_path in image_paths:\n",
    "    exif_data = get_exif_data(image_path)\n",
    "    if \"GPSInfo\" in exif_data:\n",
    "        gps_coords = convert_to_decimal(exif_data[\"GPSInfo\"])\n",
    "        if gps_coords:\n",
    "            folium.Marker(location=gps_coords, popup=image_path).add_to(m)\n",
    "        else:\n",
    "            print(f\"Skipped image due to invalid GPS data: {image_path}\")\n",
    "    else:\n",
    "        print(f\"No GPS data found for image: {image_path}\")\n",
    "\n",
    "# Save the map\n",
    "m.save(\"map_with_images.html\")"
   ]
  }
 ],
 "metadata": {
  "kernelspec": {
   "display_name": "advanced_cv_env",
   "language": "python",
   "name": "python3"
  },
  "language_info": {
   "codemirror_mode": {
    "name": "ipython",
    "version": 3
   },
   "file_extension": ".py",
   "mimetype": "text/x-python",
   "name": "python",
   "nbconvert_exporter": "python",
   "pygments_lexer": "ipython3",
   "version": "3.13.0"
  }
 },
 "nbformat": 4,
 "nbformat_minor": 2
}
